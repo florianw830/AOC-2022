{
 "cells": [
  {
   "cell_type": "code",
   "execution_count": 108,
   "metadata": {},
   "outputs": [],
   "source": [
    "f = open(\"input.txt\", \"r\")\n",
    "l = f.read().split(\"\\n\")[:-1]\n",
    "\n",
    "\n",
    "\n",
    "\n",
    "#AX stein\n",
    "#BY papier\n",
    "#CZ schere"
   ]
  },
  {
   "cell_type": "code",
   "execution_count": 109,
   "metadata": {},
   "outputs": [
    {
     "name": "stdout",
     "output_type": "stream",
     "text": [
      "10994\n"
     ]
    }
   ],
   "source": [
    "sc = 0\n",
    "for _x in l:\n",
    "    x = _x.split(\" \")\n",
    "    \n",
    "    if x[1] == \"X\":\n",
    "        sc+=1\n",
    "    if x[1] == \"Y\":\n",
    "        sc+=2\n",
    "    if x[1] == \"Z\":\n",
    "        sc+=3\n",
    "    if chr(ord(x[1])-23) == x[0]:\n",
    "        sc+=3\n",
    "        continue\n",
    "    if x[1]==\"X\" and x[0] ==\"B\":\n",
    "       \n",
    "        continue\n",
    "    if x[1]==\"Y\" and x[0] ==\"C\":\n",
    "        continue\n",
    "    if x[1]==\"Z\" and x[0] ==\"A\":\n",
    "        continue\n",
    "    sc+=6\n",
    "\n",
    "print(sc)\n",
    "\n",
    "    \n",
    "    \n",
    "\n"
   ]
  }
 ],
 "metadata": {
  "kernelspec": {
   "display_name": "Python 3.9.5 ('.venv': venv)",
   "language": "python",
   "name": "python3"
  },
  "language_info": {
   "codemirror_mode": {
    "name": "ipython",
    "version": 3
   },
   "file_extension": ".py",
   "mimetype": "text/x-python",
   "name": "python",
   "nbconvert_exporter": "python",
   "pygments_lexer": "ipython3",
   "version": "3.9.5"
  },
  "orig_nbformat": 4,
  "vscode": {
   "interpreter": {
    "hash": "9e25a10e597715749c3292df0bf2aea3c86a4cfab0d9540081a4e0510d19a338"
   }
  }
 },
 "nbformat": 4,
 "nbformat_minor": 2
}
