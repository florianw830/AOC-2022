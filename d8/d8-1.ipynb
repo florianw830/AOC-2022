{
 "cells": [
  {
   "cell_type": "code",
   "execution_count": 398,
   "metadata": {},
   "outputs": [],
   "source": [
    "f = open(\"input.txt\", \"r\")\n",
    "l = f.read().split(\"\\n\")[:-1]\n",
    "ll = [[int(z) for z in x] for x in l]\n",
    "\n"
   ]
  },
  {
   "cell_type": "code",
   "execution_count": 399,
   "metadata": {},
   "outputs": [
    {
     "name": "stdout",
     "output_type": "stream",
     "text": [
      "392\n"
     ]
    }
   ],
   "source": [
    "ct = len(ll[1:-1])*2\n",
    "ct+=len(ll[0])*2\n",
    "print(ct)"
   ]
  },
  {
   "cell_type": "code",
   "execution_count": 400,
   "metadata": {},
   "outputs": [],
   "source": [
    "from collections import defaultdict\n",
    "visdDictX = defaultdict(bool)\n",
    "visdDictY = defaultdict(bool)\n"
   ]
  },
  {
   "cell_type": "code",
   "execution_count": 401,
   "metadata": {},
   "outputs": [],
   "source": [
    "for i in range(0,len(ll[0])):\n",
    "    visdDictX[(i,0)] = True\n",
    "    visdDictX[(i,len(ll)-1)] = True\n",
    "    visdDictY[(i,0)] = True\n",
    "    visdDictY[(i,len(ll)-1)] = True\n",
    "for i in range(0,len(ll)):\n",
    "    visdDictX[(0,i)] = True\n",
    "    visdDictX[(len(ll[0]),i)] = True\n",
    "    visdDictY[(0,i)] = True\n",
    "    visdDictY[(len(ll[0]),i)] = True\n"
   ]
  },
  {
   "cell_type": "code",
   "execution_count": 402,
   "metadata": {},
   "outputs": [],
   "source": [
    "def isVisible(l,x,y):\n",
    "    skip = []\n",
    "    ret = [True,True,True,True]\n",
    "    for _y in range(y+1,len(ll)):\n",
    "        kk = [k for k in range(y+1,len(ll))]\n",
    "        if l[_y][x] >= l[y][x]:          \n",
    "            ret[0] = False\n",
    "            break\n",
    "    \n",
    "    for _y in range(y-1,-1,-1):\n",
    "        \n",
    "        if l[_y][x] >= l[y][x]:\n",
    "            ret[1] = False\n",
    "            break\n",
    "    for _x in range(x+1,len(ll[0])):\n",
    "\n",
    "        if l[y][_x] >= l[y][x]:\n",
    "            ret[2] = False\n",
    "            break\n",
    "    for _x in range(x-1,-1,-1):\n",
    "        \n",
    "        if l[y][_x] >= l[y][x]:\n",
    "            ret[3] = False\n",
    "            break\n",
    "    return ret[0] or ret[1] or ret[2] or ret[3]\n",
    "    \n"
   ]
  },
  {
   "cell_type": "code",
   "execution_count": 403,
   "metadata": {},
   "outputs": [
    {
     "name": "stdout",
     "output_type": "stream",
     "text": [
      "1700\n"
     ]
    }
   ],
   "source": [
    "\n",
    "\n",
    "for y in range(1,len(ll)-1):\n",
    "    for x in range(1,len(ll[0])-1):\n",
    "        \n",
    "        if isVisible(ll,x,y):\n",
    "            ct+=1\n",
    "print(ct )"
   ]
  }
 ],
 "metadata": {
  "kernelspec": {
   "display_name": "Python 3.9.5 64-bit",
   "language": "python",
   "name": "python3"
  },
  "language_info": {
   "codemirror_mode": {
    "name": "ipython",
    "version": 3
   },
   "file_extension": ".py",
   "mimetype": "text/x-python",
   "name": "python",
   "nbconvert_exporter": "python",
   "pygments_lexer": "ipython3",
   "version": "3.9.5"
  },
  "orig_nbformat": 4,
  "vscode": {
   "interpreter": {
    "hash": "a887bcff3c529d3c5f7024a1d41aa3b4bbce1316ddeaa17630e21743a1f8ea92"
   }
  }
 },
 "nbformat": 4,
 "nbformat_minor": 2
}
