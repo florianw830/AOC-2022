{
 "cells": [
  {
   "cell_type": "code",
   "execution_count": 43,
   "metadata": {},
   "outputs": [],
   "source": [
    "f = open(\"input.txt\", \"r\")\n",
    "l = f.read().split(\"\\n\")[:-1]\n",
    "ll = [[int(z) for z in x] for x in l]\n",
    "\n"
   ]
  },
  {
   "cell_type": "code",
   "execution_count": 44,
   "metadata": {},
   "outputs": [
    {
     "name": "stdout",
     "output_type": "stream",
     "text": [
      "16\n"
     ]
    }
   ],
   "source": [
    "ct = len(ll[1:-1])*2\n",
    "ct+=len(ll[0])*2\n",
    "print(ct)"
   ]
  },
  {
   "cell_type": "code",
   "execution_count": 45,
   "metadata": {},
   "outputs": [],
   "source": [
    "from collections import defaultdict\n",
    "visdDictX = defaultdict(bool)\n",
    "visdDictY = defaultdict(bool)\n"
   ]
  },
  {
   "cell_type": "code",
   "execution_count": 46,
   "metadata": {},
   "outputs": [],
   "source": [
    "for i in range(0,len(ll[0])):\n",
    "    visdDictX[(i,0)] = True\n",
    "    visdDictX[(i,len(ll)-1)] = True\n",
    "    visdDictY[(i,0)] = True\n",
    "    visdDictY[(i,len(ll)-1)] = True\n",
    "for i in range(0,len(ll)):\n",
    "    visdDictX[(0,i)] = True\n",
    "    visdDictX[(len(ll[0]),i)] = True\n",
    "    visdDictY[(0,i)] = True\n",
    "    visdDictY[(len(ll[0]),i)] = True\n"
   ]
  },
  {
   "cell_type": "code",
   "execution_count": 47,
   "metadata": {},
   "outputs": [],
   "source": [
    "def isVisible(l,x,y):\n",
    "    skip = []\n",
    "    ret = [0,0,0,0]\n",
    "    tmp = 0\n",
    "    for _y in range(y+1,len(ll)):\n",
    "        tmp+=1\n",
    "        if l[_y][x] >= l[y][x]:          \n",
    "            break\n",
    "    ret[0] = tmp\n",
    "    tmp = 0\n",
    "    for _y in range(y-1,-1,-1):\n",
    "        tmp+=1\n",
    "        if l[_y][x] >= l[y][x]:\n",
    "            break\n",
    "    ret[1] = tmp\n",
    "    tmp = 0\n",
    "    for _x in range(x+1,len(ll[0])):\n",
    "        tmp+=1\n",
    "        if l[y][_x] >= l[y][x]:\n",
    "            break\n",
    "    ret[2] = tmp\n",
    "    tmp = 0\n",
    "    for _x in range(x-1,-1,-1):\n",
    "        tmp+=1\n",
    "        if l[y][_x] >= l[y][x]:\n",
    "            break\n",
    "    ret[3] = tmp\n",
    "    #print(x,y,ret)\n",
    "    return ret[0] *ret[1] * ret[2] * ret[3]\n",
    "    \n"
   ]
  },
  {
   "cell_type": "code",
   "execution_count": 48,
   "metadata": {},
   "outputs": [
    {
     "name": "stdout",
     "output_type": "stream",
     "text": [
      "1 1 [1, 1, 1, 1]\n",
      "2 1 [2, 1, 2, 1]\n",
      "3 1 [1, 1, 1, 1]\n",
      "1 2 [2, 1, 3, 1]\n",
      "2 2 [1, 1, 1, 1]\n",
      "3 2 [1, 2, 1, 1]\n",
      "1 3 [1, 1, 1, 1]\n",
      "2 3 [1, 2, 2, 2]\n",
      "3 3 [1, 3, 1, 1]\n",
      "8\n"
     ]
    }
   ],
   "source": [
    "\n",
    "\n",
    "mx = 0\n",
    "for y in range(1,len(ll)-1):\n",
    "    for x in range(1,len(ll[0])-1):\n",
    "        tt = isVisible(ll,x,y)\n",
    "        if tt > mx:\n",
    "            mx = tt\n",
    "        \n",
    "print(mx)"
   ]
  }
 ],
 "metadata": {
  "kernelspec": {
   "display_name": "Python 3.9.5 64-bit",
   "language": "python",
   "name": "python3"
  },
  "language_info": {
   "codemirror_mode": {
    "name": "ipython",
    "version": 3
   },
   "file_extension": ".py",
   "mimetype": "text/x-python",
   "name": "python",
   "nbconvert_exporter": "python",
   "pygments_lexer": "ipython3",
   "version": "3.9.5"
  },
  "orig_nbformat": 4,
  "vscode": {
   "interpreter": {
    "hash": "a887bcff3c529d3c5f7024a1d41aa3b4bbce1316ddeaa17630e21743a1f8ea92"
   }
  }
 },
 "nbformat": 4,
 "nbformat_minor": 2
