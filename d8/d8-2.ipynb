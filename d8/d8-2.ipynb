{
 "cells": [
  {
   "cell_type": "code",
   "execution_count": 55,
   "metadata": {},
   "outputs": [],
   "source": [
    "f = open(\"input.txt\", \"r\")\n",
    "l = f.read().split(\"\\n\")[:-1]\n",
    "ll = [[int(z) for z in x] for x in l]\n",
    "\n"
   ]
  },
  {
   "cell_type": "code",
   "execution_count": 56,
   "metadata": {},
   "outputs": [
    {
     "name": "stdout",
     "output_type": "stream",
     "text": [
      "392\n"
     ]
    }
   ],
   "source": [
    "ct = len(ll[1:-1])*2\n",
    "ct+=len(ll[0])*2\n",
    "print(ct)"
   ]
  },
  {
   "cell_type": "code",
   "execution_count": 57,
   "metadata": {},
   "outputs": [],
   "source": [
    "\n",
    "\n",
    "def countVis(l,x,y):\n",
    "    skip = []\n",
    "    ret = [0,0,0,0]\n",
    "    tmp = 0\n",
    "    for _y in range(y+1,len(ll)):\n",
    "        tmp+=1\n",
    "        if l[_y][x] >= l[y][x]:          \n",
    "            break\n",
    "    ret[0] = tmp\n",
    "    tmp = 0\n",
    "    for _y in range(y-1,-1,-1):\n",
    "        tmp+=1\n",
    "        if l[_y][x] >= l[y][x]:\n",
    "            break\n",
    "    ret[1] = tmp\n",
    "    tmp = 0\n",
    "    for _x in range(x+1,len(ll[0])):\n",
    "        tmp+=1\n",
    "        if l[y][_x] >= l[y][x]:\n",
    "            break\n",
    "    ret[2] = tmp\n",
    "    tmp = 0\n",
    "    for _x in range(x-1,-1,-1):\n",
    "        tmp+=1\n",
    "        if l[y][_x] >= l[y][x]:\n",
    "            break\n",
    "    ret[3] = tmp\n",
    "    #print(x,y,ret)\n",
    "    return ret[0] *ret[1] * ret[2] * ret[3]\n",
    "    \n"
   ]
  },
  {
   "cell_type": "code",
   "execution_count": 58,
   "metadata": {},
   "outputs": [
    {
     "name": "stdout",
     "output_type": "stream",
     "text": [
      "470596\n"
     ]
    }
   ],
   "source": [
    "\n",
    "#\n",
    "mx = 0\n",
    "for y in range(1,len(ll)-1):\n",
    "    for x in range(1,len(ll[0])-1):\n",
    "        tt = countVis(ll,x,y)\n",
    "        if tt > mx:\n",
    "            mx = tt\n",
    "        \n",
    "print(mx)"
   ]
  }
 ],
 "metadata": {
  "kernelspec": {
   "display_name": "Python 3.9.5 64-bit",
   "language": "python",
   "name": "python3"
  },
  "language_info": {
   "codemirror_mode": {
    "name": "ipython",
    "version": 3
   },
   "file_extension": ".py",
   "mimetype": "text/x-python",
   "name": "python",
   "nbconvert_exporter": "python",
   "pygments_lexer": "ipython3",
   "version": "3.9.5 (tags/v3.9.5:0a7dcbd, May  3 2021, 17:27:52) [MSC v.1928 64 bit (AMD64)]"
  },
  "orig_nbformat": 4,
  "vscode": {
   "interpreter": {
    "hash": "a887bcff3c529d3c5f7024a1d41aa3b4bbce1316ddeaa17630e21743a1f8ea92"
   }
  }
 },
 "nbformat": 4,
 "nbformat_minor": 2
}
