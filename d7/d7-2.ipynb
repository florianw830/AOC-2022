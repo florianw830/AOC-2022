{
 "cells": [
  {
   "cell_type": "code",
   "execution_count": 91,
   "metadata": {},
   "outputs": [],
   "source": [
    "f = open(\"input.txt\", \"r\")\n",
    "l = f.read().split(\"\\n\")[:-1]\n",
    "\n",
    "\n"
   ]
  },
  {
   "cell_type": "code",
   "execution_count": 92,
   "metadata": {},
   "outputs": [],
   "source": [
    "class MyNode:\n",
    "    def __init__(self,name,childOf):\n",
    "        self.childOf = childOf\n",
    "        self.name = name\n",
    "        self.files = []\n",
    "        self.dirs =[]\n",
    "    def getFull(self) -> str:\n",
    "\n",
    "        if self.childOf == None:\n",
    "            return \"\"\n",
    "        return self.childOf.getFull() + \"/\" + self.name\n",
    "    def getSize(self):\n",
    "        sz = 0\n",
    "        for x in self.files:\n",
    "            sz+=int(x.split(\" \")[0])\n",
    "        for x in self.dirs:\n",
    "            sz+= x.getSize()\n",
    "        return sz\n",
    "    \n",
    "        "
   ]
  },
  {
   "cell_type": "code",
   "execution_count": 93,
   "metadata": {},
   "outputs": [
    {
     "name": "stdout",
     "output_type": "stream",
     "text": [
      "[<__main__.MyNode object at 0x00000211397EE100>, <__main__.MyNode object at 0x00000211397EE760>, <__main__.MyNode object at 0x000002113A18A0A0>, <__main__.MyNode object at 0x00000211396D7CD0>, <__main__.MyNode object at 0x0000021139709DF0>, <__main__.MyNode object at 0x0000021139709EE0>, <__main__.MyNode object at 0x0000021139567700>, <__main__.MyNode object at 0x000002113A196CA0>, <__main__.MyNode object at 0x000002113A196A60>, <__main__.MyNode object at 0x000002113A196040>, <__main__.MyNode object at 0x000002113A1962B0>]\n"
     ]
    }
   ],
   "source": [
    "\n",
    "nodes =[]\n",
    "\n",
    "cur = MyNode(\"/\",None)\n",
    "strt = cur\n",
    "listing = False\n",
    "for x in l[1:]:\n",
    "    _x = x.split(\" \")\n",
    "    if _x[1] == \"cd\" and _x[2] != \"..\":\n",
    "        tmp = MyNode(_x[2],cur)\n",
    "        nodes.append(tmp)\n",
    "        cur.dirs.append(tmp)\n",
    "        cur = tmp\n",
    "    if _x[1] == \"cd\" and _x[2] == \"..\":\n",
    "        cur = cur.childOf\n",
    "        continue\n",
    "    \n",
    "    if _x[1] == \"ls\":\n",
    "        listing =True\n",
    "        continue\n",
    "    if listing and _x[0] ==\"$\":\n",
    "        listing = False\n",
    "    elif listing and _x[0] ==\"dir\":\n",
    "        pass\n",
    "    else:\n",
    "        if listing:\n",
    "            cur.files.append(x)\n",
    "\n",
    "        \n",
    "s =0\n",
    "for n in nodes:\n",
    "    if n.getSize() <100000:\n",
    "        s+=n.getSize()\n",
    "\n",
    "\n",
    "need = 70000000-strt.getSize()\n",
    "need = 30000000-need\n",
    "a = [x for x in nodes if x.getSize()>=need ]\n",
    "\n",
    "mi = min(a,key=lambda x:x.getSize())\n",
    "print(mi.getSize())"
   ]
  }
 ],
 "metadata": {
  "kernelspec": {
   "display_name": "Python 3.9.5 64-bit",
   "language": "python",
   "name": "python3"
  },
  "language_info": {
   "codemirror_mode": {
    "name": "ipython",
    "version": 3
   },
   "file_extension": ".py",
   "mimetype": "text/x-python",
   "name": "python",
   "nbconvert_exporter": "python",
   "pygments_lexer": "ipython3",
   "version": "3.9.5"
  },
  "orig_nbformat": 4,
  "vscode": {
   "interpreter": {
    "hash": "a887bcff3c529d3c5f7024a1d41aa3b4bbce1316ddeaa17630e21743a1f8ea92"
   }
  }
 },
 "nbformat": 4,
 "nbformat_minor": 2
}
