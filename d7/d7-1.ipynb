{
 "cells": [
  {
   "cell_type": "code",
   "execution_count": 31,
   "metadata": {},
   "outputs": [],
   "source": [
    "f = open(\"input.txt\", \"r\")\n",
    "l = f.read().split(\"\\n\")[:-1]\n",
    "\n",
    "\n"
   ]
  },
  {
   "cell_type": "code",
   "execution_count": 32,
   "metadata": {},
   "outputs": [],
   "source": [
    "class MyNode:\n",
    "    def __init__(self,name,childOf):\n",
    "        self.childOf = childOf\n",
    "        self.name = name\n",
    "        self.files = []\n",
    "        self.dirs =[]\n",
    "    def getFull(self) -> str:\n",
    "\n",
    "        if self.childOf == None:\n",
    "            return \"\"\n",
    "        return self.childOf.getFull() + \"/\" + self.name\n",
    "    def getSize(self):\n",
    "        sz = 0\n",
    "        for x in self.files:\n",
    "            sz+=int(x.split(\" \")[0])\n",
    "        for x in self.dirs:\n",
    "            sz+= x.getSize()\n",
    "        return sz\n",
    "    \n",
    "        "
   ]
  },
  {
   "cell_type": "code",
   "execution_count": 33,
   "metadata": {},
   "outputs": [
    {
     "name": "stdout",
     "output_type": "stream",
     "text": [
      "95437\n"
     ]
    }
   ],
   "source": [
    "\n",
    "nodes =[]\n",
    "cur = MyNode(\"/\",None)\n",
    "listing = False\n",
    "for x in l[1:]:\n",
    "    _x = x.split(\" \")\n",
    "    if _x[1] == \"cd\" and _x[2] != \"..\":\n",
    "        tmp = MyNode(_x[2],cur)\n",
    "        nodes.append(tmp)\n",
    "        cur.dirs.append(tmp)\n",
    "        cur = tmp\n",
    "    if _x[1] == \"cd\" and _x[2] == \"..\":\n",
    "        cur = cur.childOf\n",
    "        continue\n",
    "    \n",
    "    if _x[1] == \"ls\":\n",
    "        listing =True\n",
    "        continue\n",
    "    if listing and _x[0] ==\"$\":\n",
    "        listing = False\n",
    "    elif listing and _x[0] ==\"dir\":\n",
    "        pass\n",
    "    else:\n",
    "        if listing:\n",
    "            cur.files.append(x)\n",
    "\n",
    "        \n",
    "s =0\n",
    "for n in nodes:\n",
    "    if n.getSize() <100000:\n",
    "        s+=n.getSize()\n",
    "print(s)"
   ]
  }
 ],
 "metadata": {
  "kernelspec": {
   "display_name": "Python 3.9.5 64-bit",
   "language": "python",
   "name": "python3"
  },
  "language_info": {
   "codemirror_mode": {
    "name": "ipython",
    "version": 3
   },
   "file_extension": ".py",
   "mimetype": "text/x-python",
   "name": "python",
   "nbconvert_exporter": "python",
   "pygments_lexer": "ipython3",
   "version": "3.9.5"
  },
  "orig_nbformat": 4,
  "vscode": {
   "interpreter": {
    "hash": "a887bcff3c529d3c5f7024a1d41aa3b4bbce1316ddeaa17630e21743a1f8ea92"
   }
  }
 },
 "nbformat": 4,
 "nbformat_minor": 2
}
