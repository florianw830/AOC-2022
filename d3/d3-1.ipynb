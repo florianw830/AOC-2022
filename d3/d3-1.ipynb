{
 "cells": [
  {
   "cell_type": "code",
   "execution_count": 120,
   "metadata": {},
   "outputs": [],
   "source": [
    "f = open(\"input.txt\", \"r\")\n",
    "l = f.read().split(\"\\n\")[:-1]\n",
    "\n",
    "\n"
   ]
  },
  {
   "cell_type": "code",
   "execution_count": 121,
   "metadata": {},
   "outputs": [],
   "source": [
    "from collections import Counter"
   ]
  },
  {
   "cell_type": "code",
   "execution_count": 122,
   "metadata": {},
   "outputs": [
    {
     "name": "stdout",
     "output_type": "stream",
     "text": [
      "7817\n"
     ]
    }
   ],
   "source": [
    "\n",
    "ct = 0\n",
    "for x in l:\n",
    "    a = set(x[len(x)//2:])\n",
    "    b = (x[:len(x)//2])\n",
    "\n",
    "    c = Counter(list(a.intersection(b)))\n",
    "    v = c.most_common(1)[0][0]\n",
    "    t=0\n",
    "    if v.isupper():\n",
    "        t = ord(v) -ord(\"A\")+27\n",
    "    else:\n",
    "        t = ord(v) -ord(\"a\")+1\n",
    "    ct+=t\n",
    "print(ct)"
   ]
  }
 ],
 "metadata": {
  "kernelspec": {
   "display_name": "Python 3.9.5 ('aoc-sb': venv)",
   "language": "python",
   "name": "python3"
  },
  "language_info": {
   "codemirror_mode": {
    "name": "ipython",
    "version": 3
   },
   "file_extension": ".py",
   "mimetype": "text/x-python",
   "name": "python",
   "nbconvert_exporter": "python",
   "pygments_lexer": "ipython3",
   "version": "3.9.5"
  },
  "orig_nbformat": 4,
  "vscode": {
   "interpreter": {
    "hash": "8af1fd8da169ef3f60600fc831ed1e5b60d5c19741708d676dc6f0f0399b7712"
   }
  }
 },
 "nbformat": 4,
 "nbformat_minor": 2
}
