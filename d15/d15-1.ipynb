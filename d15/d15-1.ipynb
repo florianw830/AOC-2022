{
 "cells": [
  {
   "cell_type": "code",
   "execution_count": 1,
   "metadata": {},
   "outputs": [
    {
     "name": "stdout",
     "output_type": "stream",
     "text": [
      "0\n"
     ]
    }
   ],
   "source": [
    "f = open(\"input.txt\", \"r\")\n",
    "l = f.read().split(\"\\n\")[:-1]\n",
    "#print(l)\n",
    "\n",
    "class MyScanner:\n",
    "    def __init__(self,x,y,beaconX,beaconY):\n",
    "        self.x = x\n",
    "        self.y = y\n",
    "        self.beaconX = beaconX\n",
    "        self.beaconY = beaconY\n",
    "        self.m = self.getManhatten()\n",
    "    def getManhatten(self):\n",
    "        return abs(self.x -self.beaconX) + abs(self.y -self.beaconY)\n",
    "    def manhattenAt(self,y):\n",
    "        ret = []\n",
    "        #print(self.x,self.y)\n",
    "        #print(self.y + self.m,y)\n",
    "        #print(self.y-self.m,y)\n",
    "        \n",
    "        if (self.y + self.m >= y and self.y <=y) or (self.y-self.m <= y and  self.y >= y):\n",
    "            tmpM = 1+self.m-abs(self.y- y)\n",
    "            \n",
    "            for x in range(-tmpM+1,0):\n",
    "               \n",
    "                if x == self.beaconX and y == self.beaconY:\n",
    "                    continue\n",
    "                ret.append(self.x+x)\n",
    "            for x in range(0,tmpM):\n",
    "\n",
    "                if x == self.beaconX and y == self.beaconY:\n",
    "                    continue\n",
    "                ret.append(self.x+x)\n",
    "        return list(set(ret))\n",
    "                                                 \n",
    "sensorList = []\n",
    "for s in l:\n",
    "    \n",
    "    _x = int(s.split(\" \")[2].split(\"=\")[1][:-1])\n",
    "    _y = int(s.split(\" \")[3].split(\"=\")[1][:-1])\n",
    "    _bx = int(s.split(\" \")[8].split(\"=\")[1][:-1])\n",
    "    _by = int(s.split(\" \")[9].split(\"=\")[1])\n",
    "    #print(_x,_y,_bx,_by)\n",
    "    tmp = MyScanner(_x,_y,_bx,_by)\n",
    "    sensorList.append(tmp)\n",
    "line = []\n",
    "\n",
    "#print(sensorList[6].manhattenAt(-1))\n",
    "\n",
    "for s in sensorList:\n",
    "    line += s.manhattenAt(2000000)\n",
    "line = list(set(line))\n",
    "line.sort()\n",
    "ct=0\n",
    "cct = 0\n",
    "for i in range(0,len(line)-1):\n",
    "    if line[i]+1 == line[i+1]:\n",
    "        ct+=1\n",
    "\n",
    "print(ct)\n",
    "\n"
   ]
  }
 ],
 "metadata": {
  "kernelspec": {
   "display_name": "aoc-sb",
   "language": "python",
   "name": "python3"
  },
  "language_info": {
   "codemirror_mode": {
    "name": "ipython",
    "version": 3
   },
   "file_extension": ".py",
   "mimetype": "text/x-python",
   "name": "python",
   "nbconvert_exporter": "python",
   "pygments_lexer": "ipython3",
   "version": "3.9.5"
  },
  "orig_nbformat": 4,
  "vscode": {
   "interpreter": {
    "hash": "8af1fd8da169ef3f60600fc831ed1e5b60d5c19741708d676dc6f0f0399b7712"
   }
  }
 },
 "nbformat": 4,
 "nbformat_minor": 2
}
