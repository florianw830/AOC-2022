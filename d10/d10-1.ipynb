{
 "cells": [
  {
   "cell_type": "code",
   "execution_count": 3,
   "metadata": {},
   "outputs": [],
   "source": [
    "f = open(\"test.txt\", \"r\")\n",
    "l = f.read().split(\"\\n\")[:-1]\n",
    "\n"
   ]
  },
  {
   "cell_type": "code",
   "execution_count": 4,
   "metadata": {},
   "outputs": [
    {
     "name": "stdout",
     "output_type": "stream",
     "text": [
      "13140\n"
     ]
    }
   ],
   "source": [
    "cy = 0\n",
    "v = 1\n",
    "str = 0\n",
    "for x in l:\n",
    "    t = x.split(\" \")\n",
    "    cc=0\n",
    "    if t[0] ==\"addx\":\n",
    "        cc = 2\n",
    "    if t[0] ==\"noop\":\n",
    "        cc = 1\n",
    "    for i in range(0,cc):\n",
    "        cy+=1    \n",
    "\n",
    "        if (cy-20)%40==0:\n",
    "  \n",
    "            str = str + (v*cy)\n",
    "    if t[0] ==\"addx\":\n",
    "        v += int(t[1])\n",
    "print(str)"
   ]
  }
 ],
 "metadata": {
  "kernelspec": {
   "display_name": "Python 3.9.5 64-bit",
   "language": "python",
   "name": "python3"
  },
  "language_info": {
   "codemirror_mode": {
    "name": "ipython",
    "version": 3
   },
   "file_extension": ".py",
   "mimetype": "text/x-python",
   "name": "python",
   "nbconvert_exporter": "python",
   "pygments_lexer": "ipython3",
   "version": "3.9.5 (tags/v3.9.5:0a7dcbd, May  3 2021, 17:27:52) [MSC v.1928 64 bit (AMD64)]"
  },
  "orig_nbformat": 4,
  "vscode": {
   "interpreter": {
    "hash": "a887bcff3c529d3c5f7024a1d41aa3b4bbce1316ddeaa17630e21743a1f8ea92"
   }
  }
 },
 "nbformat": 4,
 "nbformat_minor": 2
}
