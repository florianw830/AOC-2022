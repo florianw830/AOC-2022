{
 "cells": [
  {
   "cell_type": "code",
   "execution_count": 1,
   "metadata": {},
   "outputs": [],
   "source": [
    "f = open(\"input.txt\", \"r\")\n",
    "l = f.read().split(\"\\n\")[:-1]\n"
   ]
  },
  {
   "cell_type": "code",
   "execution_count": 2,
   "metadata": {},
   "outputs": [
    {
     "name": "stdout",
     "output_type": "stream",
     "text": [
      "####..##...##....##.####...##.####.#....\n",
      "...#.#..#.#..#....#....#....#.#....#....\n",
      "..#..#....#.......#...#.....#.###..#....\n",
      ".#...#.##.#.......#..#......#.#....#....\n",
      "#....#..#.#..#.#..#.#....#..#.#....#....\n",
      "####..###..##...##..####..##..#....####.\n"
     ]
    }
   ],
   "source": [
    "cy = 0\n",
    "v = 1\n",
    "ptr = -1\n",
    "str = 0\n",
    "prnList = []\n",
    "prnList.append([\".\"]*40)\n",
    "\n",
    "crtPointer = 1\n",
    "for x in l:\n",
    "    t = x.split(\" \")\n",
    "    cc=0\n",
    "\n",
    "    if t[0] ==\"addx\":\n",
    "        cc = 2\n",
    "    if t[0] ==\"noop\":\n",
    "        cc = 1\n",
    "    for i in range(0,cc):\n",
    "\n",
    "        cy+=1\n",
    "        ptr+=1\n",
    "        #print(i,cy, crtPointer, ptr,ptr in [x for x in range(crtPointer-1,crtPointer+2)])\n",
    "        if ptr in [x for x in range(crtPointer-1,crtPointer+2)] :\n",
    "            #print(len(prnList)-1)\n",
    "            prnList[len(prnList)-1][ptr] = \"#\"\n",
    "        else:\n",
    "            prnList[len(prnList)-1][ptr] = \".\"\n",
    "\n",
    "        #if cy >1:\n",
    "            #crtPointer = v\n",
    "        if cy%40==0:\n",
    "\n",
    "            ptr = -1\n",
    "            prnList.append([\".\"]*40)\n",
    " \n",
    "        #print(prnList)    \n",
    "    \n",
    "    if t[0] ==\"addx\":\n",
    "        v += int(t[1])\n",
    "        crtPointer = v\n",
    "        \n",
    "\n",
    "for p in prnList[:-1]:\n",
    "    print(''.join(p))"
   ]
  }
 ],
 "metadata": {
  "kernelspec": {
   "display_name": "Python 3.9.5 64-bit",
   "language": "python",
   "name": "python3"
  },
  "language_info": {
   "codemirror_mode": {
    "name": "ipython",
    "version": 3
   },
   "file_extension": ".py",
   "mimetype": "text/x-python",
   "name": "python",
   "nbconvert_exporter": "python",
   "pygments_lexer": "ipython3",
   "version": "3.9.5"
  },
  "orig_nbformat": 4,
  "vscode": {
   "interpreter": {
    "hash": "a887bcff3c529d3c5f7024a1d41aa3b4bbce1316ddeaa17630e21743a1f8ea92"
   }
  }
 },
 "nbformat": 4,
 "nbformat_minor": 2
}
