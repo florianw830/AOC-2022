{
 "cells": [
  {
   "cell_type": "code",
   "execution_count": 75,
   "metadata": {},
   "outputs": [],
   "source": [
    "f = open(\"input.txt\", \"r\")\n",
    "l = f.read().split(\"\\n\\n\")\n",
    "instr = [(int(x.split(\" \")[1]),int(x.split(\" \")[3]),int(x.split(\" \")[5])) for x in l[1].split(\"\\n\") if x !=\"\"]\n",
    "\n",
    "\n"
   ]
  },
  {
   "cell_type": "code",
   "execution_count": 76,
   "metadata": {},
   "outputs": [],
   "source": [
    "import operator\n",
    "def moveItm(stacks,frm,to,ct):\n",
    "    itms = stacks[frm][-ct:]\n",
    "    stacks[frm] = stacks[frm][:-ct]\n",
    "    stacks[to] +=itms\n",
    "    \n",
    "    "
   ]
  },
  {
   "cell_type": "code",
   "execution_count": 77,
   "metadata": {},
   "outputs": [
    {
     "name": "stdout",
     "output_type": "stream",
     "text": [
      "RWLWGJGFD\n"
     ]
    }
   ],
   "source": [
    "stack=[]\n",
    "stacks=[]  \n",
    "\n",
    "tmp = l[0].split(\"\\n\")[-1]\n",
    "\n",
    "for i in range(0,len(tmp)):\n",
    "    \n",
    "    if tmp[i] != \"\" and tmp[i] != \"[\" and tmp[i] != \"]\" and tmp[i] != \" \" :\n",
    "        stack.append((i,int(tmp[i])))\n",
    "        stacks.append([])\n",
    "\n",
    "ptr = 0\n",
    "for x in l[0].split(\"\\n\")[:-1]:\n",
    "\n",
    "    for y in stack:\n",
    "        if x[y[0]] != \" \":\n",
    "            stacks[y[1]-1].append(x[y[0]])\n",
    "\n",
    "for i in range(0,len(stacks)):\n",
    "    stacks[i] = list(reversed(stacks[i]))\n",
    "\n",
    "for k in instr:\n",
    "\n",
    "    ct = k[0]\n",
    "    frm = k[1]-1\n",
    "    to = k[2]-1\n",
    "    moveItm(stacks,frm,to,ct)\n",
    "\n",
    "\n",
    "str = \"\"\n",
    "for stack in stacks:\n",
    "    str+=stack.pop()\n",
    "print(str)"
   ]
  },
  {
   "cell_type": "code",
   "execution_count": null,
   "metadata": {},
   "outputs": [],
   "source": []
  },
  {
   "cell_type": "markdown",
   "metadata": {},
   "source": []
  }
 ],
 "metadata": {
  "kernelspec": {
   "display_name": "Python 3.9.0 ('AOCDesktop': venv)",
   "language": "python",
   "name": "python3"
  },
  "language_info": {
   "codemirror_mode": {
    "name": "ipython",
    "version": 3
   },
   "file_extension": ".py",
   "mimetype": "text/x-python",
   "name": "python",
   "nbconvert_exporter": "python",
   "pygments_lexer": "ipython3",
   "version": "3.9.0"
  },
  "orig_nbformat": 4,
  "vscode": {
   "interpreter": {
    "hash": "0bdd095bb24223e87ba4a78feb90bab41833db0ebedfb8caa923a2283b138722"
   }
  }
 },
 "nbformat": 4,
 "nbformat_minor": 2
}
