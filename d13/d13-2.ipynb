{
 "cells": [
  {
   "cell_type": "code",
   "execution_count": 56,
   "metadata": {},
   "outputs": [],
   "source": [
    "import ast\n",
    "f = open(\"input.txt\", \"r\")\n",
    "l = f.read().split(\"\\n\\n\")\n",
    "ll = [x.split(\"\\n\") for x in l]"
   ]
  },
  {
   "cell_type": "code",
   "execution_count": 57,
   "metadata": {},
   "outputs": [],
   "source": [
    "def packEqual(l,r):\n",
    "    #print(\"pe\",l,r)\n",
    "    if type(l) == type(r) and type(l) is list:\n",
    "        return l,r,True\n",
    "    if type(l) == type(r) and type(l) is not list:\n",
    "        return l,r,True\n",
    "\n",
    "        \n",
    "    \n",
    "    if type(r) is list and type(l)is not list:\n",
    "        #print(f\"mixed type convert {l} to [{l}]\" )\n",
    "        return [l],r,False\n",
    "    if type(l) is list and type(r)is not list:\n",
    "        #print(f\"mixed type convert {r} to [{r}]\" )\n",
    "        return l,[r],False\n",
    "    return l,r,False\n"
   ]
  },
  {
   "cell_type": "code",
   "execution_count": 58,
   "metadata": {},
   "outputs": [],
   "source": [
    "def myCompare(l,r):\n",
    "    ret = 0\n",
    "    if type(l) == type(r) and type(r) is list:\n",
    "        for i in range(0, min(len(l),len(r))):\n",
    "            #print(\"compare\", l[i], \"vs\",r[i])\n",
    "            ret =  myCompare(l[i],r[i])\n",
    "            if ret != 0 : return ret\n",
    "            #hier problem\n",
    "        if len(l)>len(r):\n",
    "            #print(\"right side ran out of Items\")\n",
    "            return -1\n",
    "        if len(l)<len(r):\n",
    "            #print(\"left side ran out of Items\")\n",
    "            return 1\n",
    "    \n",
    "    if type(l) == type(r) and type(r) is int:\n",
    "        if l<r:\n",
    "            return 1\n",
    "        if l == r:\n",
    "            return 0\n",
    "        if l > r:\n",
    "            return -1\n",
    "\n",
    "    if type(l) is not type(r):\n",
    "        l,r,_ = packEqual(l,r)\n",
    "        return myCompare(l,r)\n",
    "\n",
    "    return ret"
   ]
  },
  {
   "cell_type": "code",
   "execution_count": 59,
   "metadata": {},
   "outputs": [],
   "source": [
    "class MyLiteral():\n",
    "    def __init__(self,str):\n",
    "        self.str = str\n",
    "        self.lit = ast.literal_eval(str)\n",
    "    def __str__(self):\n",
    "        return self.str\n",
    "    def __le__(self,other):\n",
    "        return myCompare(self.lit, other.lit)>=0\n",
    "\n",
    "    def __ge__(self,other):\n",
    "        return  myCompare(self.lit, other.lit)<=0\n",
    "    def __eq__(self,other):\n",
    "        return  myCompare(self.lit, other.lit)==0\n",
    "    def __gt__(self,other):\n",
    "        return  myCompare(self.lit, other.lit)==-1\n",
    "    def __lt__(self,other):\n",
    "        return  myCompare(self.lit, other.lit)==1\n",
    "    "
   ]
  },
  {
   "cell_type": "code",
   "execution_count": 60,
   "metadata": {},
   "outputs": [
    {
     "name": "stdout",
     "output_type": "stream",
     "text": [
      "22000\n"
     ]
    }
   ],
   "source": [
    "#print(myCompare(left,right))\n",
    "#1061\n",
    "#6506\n",
    "#6466\n",
    "#6420\n",
    "ct = 0\n",
    "litList = []\n",
    "d1 = MyLiteral(\"[[2]]\")\n",
    "d2 = MyLiteral(\"[[6]]\")\n",
    "litList.append(d1)\n",
    "litList.append(d2)\n",
    "for i in range(0,len(ll)):\n",
    "    tmp = MyLiteral(ll[i][0])\n",
    "    litList.append(tmp)\n",
    "    tmp = MyLiteral(ll[i][1])\n",
    "    litList.append(tmp)\n",
    "\n",
    "a = 0\n",
    "b = 0\n",
    "litList.sort()\n",
    "for i in range(0,len(litList)):\n",
    "    if litList[i].str == \"[[2]]\":\n",
    "        a = i+1\n",
    "    if litList[i].str == \"[[6]]\":\n",
    "        b = i+1\n",
    "    \n",
    "print(a*b)\n"
   ]
  }
 ],
 "metadata": {
  "kernelspec": {
   "display_name": "Python 3.9.5 64-bit",
   "language": "python",
   "name": "python3"
  },
  "language_info": {
   "codemirror_mode": {
    "name": "ipython",
    "version": 3
   },
   "file_extension": ".py",
   "mimetype": "text/x-python",
   "name": "python",
   "nbconvert_exporter": "python",
   "pygments_lexer": "ipython3",
   "version": "3.9.5"
  },
  "orig_nbformat": 4,
  "vscode": {
   "interpreter": {
    "hash": "a887bcff3c529d3c5f7024a1d41aa3b4bbce1316ddeaa17630e21743a1f8ea92"
   }
  }
 },
 "nbformat": 4,
 "nbformat_minor": 2
}
