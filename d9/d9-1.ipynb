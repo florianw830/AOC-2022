{
 "cells": [
  {
   "cell_type": "code",
   "execution_count": 9,
   "metadata": {},
   "outputs": [],
   "source": [
    "f = open(\"input.txt\", \"r\")\n",
    "l = f.read().split(\"\\n\")[:-1]\n",
    "#ll = [[int(z) for z in x] for x in l]\n"
   ]
  },
  {
   "cell_type": "code",
   "execution_count": 10,
   "metadata": {},
   "outputs": [],
   "source": [
    "def superPosition(curH,curT):\n",
    "    for x in [-1,1]:\n",
    "        t = curT\n",
    "        t[0]+=x\n",
    "        if t == curH:\n",
    "            return True\n",
    "    for y in [-1,1]:\n",
    "        t = curT\n",
    "        t[1]+=y\n",
    "        if t == curH:\n",
    "            return True\n",
    "    return False"
   ]
  },
  {
   "cell_type": "code",
   "execution_count": null,
   "metadata": {},
   "outputs": [],
   "source": []
  },
  {
   "cell_type": "code",
   "execution_count": 11,
   "metadata": {},
   "outputs": [],
   "source": [
    "class MyTail:\n",
    "    def __init__(self):\n",
    "        self.tList = []\n",
    "        self.cList = []\n",
    "    def add(self,c):\n",
    "        if len(self.tList) == 9:\n",
    "            self.cList.append(self.tList[0])\n",
    "            del self.tList[0]\n"
   ]
  },
  {
   "cell_type": "code",
   "execution_count": 12,
   "metadata": {},
   "outputs": [],
   "source": [
    "class MyTail:\n",
    "    def __init__(self):\n",
    "        self.tList = []\n",
    "        self.cList = []\n",
    "    def add(self,c):\n",
    "        if len(self.tList) == 9:\n",
    "            self.cList.append(self.tList[0])\n",
    "            del self.tList[0]\n"
   ]
  },
  {
   "cell_type": "code",
   "execution_count": 13,
   "metadata": {},
   "outputs": [],
   "source": [
    "\n",
    "def adjustPosition(h,t):\n",
    "    #arround head?\n",
    "    for y in range(-1,2):\n",
    "        for x in range(-1,2):\n",
    "            if x ==0 and y == 0:\n",
    "                continue\n",
    "\n",
    "            tmp=[0,0]\n",
    "            tmp[0] = h[0]+x\n",
    "            tmp[1] = h[1]+y\n",
    "\n",
    "            if tmp == t:\n",
    "                return t\n",
    "    for y in [-2,-1,0,1,2]:\n",
    "        tmp=[0,0]\n",
    "        for x in [-2,-1,0,1,2]:\n",
    "            tmp=[0,0]\n",
    "            tmp[0] = h[0]+x\n",
    "            tmp[1] = h[1]+y\n",
    "            if tmp == t:\n",
    "                #directline\n",
    "                if y ==0 or x == 0:\n",
    "                    t[1]+= y//(-2)\n",
    "                    t[0]+= x//(-2)\n",
    "                else:\n",
    "                    #print(abs(x),abs(y))\n",
    "                    if abs(x) <abs(y):\n",
    "                        t[1]+= y//(-2)\n",
    "                        t[0]+= x//(-1)\n",
    "                    else:\n",
    "                        t[1]+= y//(-1)\n",
    "                        t[0]+= x//(-2)\n",
    "                return t\n",
    "    return t\n",
    "    \n"
   ]
  },
  {
   "cell_type": "code",
   "execution_count": 14,
   "metadata": {},
   "outputs": [],
   "source": [
    "def vis(ctList,n):\n",
    "\n",
    "    for y in range(0,n):\n",
    "        print(\"\\n\")\n",
    "        \n",
    "        for x in range(0,n):\n",
    "            t =(x,y)\n",
    "            if t in ctList:\n",
    "                print(\"#\",end=\"\")\n",
    "            else:\n",
    "                print(\".\",end=\"\")\n",
    "    print(\"\\n\\n\")"
   ]
  },
  {
   "cell_type": "code",
   "execution_count": null,
   "metadata": {},
   "outputs": [],
   "source": []
  },
  {
   "cell_type": "code",
   "execution_count": 15,
   "metadata": {},
   "outputs": [],
   "source": [
    "def handleMove(curH,curT, tar,ctList):\n",
    "    #print(tar)\n",
    "    f = tar[0]\n",
    "    m = [0,0]\n",
    "    if f == \"R\":\n",
    "        m[0] = 1\n",
    "    if f == \"L\":\n",
    "        m[0] = -1\n",
    "    if f == \"U\":\n",
    "        m[1] = -1\n",
    "    if f == \"D\":\n",
    "        m[1] = 1\n",
    "\n",
    "    _strt = [0,0]\n",
    "    _strt[0]= curH[0]\n",
    "    _strt[1]= curH[1]\n",
    "    first = True\n",
    "    second =True\n",
    "    #print(tar)\n",
    "    for i in range(0,int(tar[1])):\n",
    "         \n",
    "        \n",
    "        for x in range(0,2):\n",
    "            curH[x] += m[x]\n",
    "        #if first:\n",
    "        #    first = False\n",
    "        #    continue\n",
    "        #if second:\n",
    "        curT = adjustPosition(curH,curT)\n",
    "        ctList.append((curT[0],curT[1]))\n",
    "        #    second=False\n",
    "        #    continue\n",
    "        \n",
    "        #for x in range(0,2):\n",
    "        #    curT[x] += m[x]\n",
    "        \n",
    "  \n",
    "        #vis(ctList)\n",
    "\n",
    "    \n",
    "    return curH,curT\n",
    "\n",
    "        \n"
   ]
  },
  {
   "cell_type": "code",
   "execution_count": 16,
   "metadata": {},
   "outputs": [
    {
     "name": "stdout",
     "output_type": "stream",
     "text": [
      "5874\n"
     ]
    }
   ],
   "source": [
    "pTail = [100,100]\n",
    "pHead = [100,100]\n",
    "ctList = []\n",
    "\n",
    "ctList.append((pTail[0],pTail[1]))\n",
    "for x in l:\n",
    "\n",
    "    tar = x.split(\" \")\n",
    "    pHead, pTail = handleMove(pHead,pTail,tar,ctList)\n",
    "#vis(ctList)\n",
    "\n",
    "\n",
    "\n",
    "print(len(set(ctList)))\n",
    "#print(ctList)"
   ]
  }
 ],
 "metadata": {
  "kernelspec": {
   "display_name": "Python 3.9.5 64-bit",
   "language": "python",
   "name": "python3"
  },
  "language_info": {
   "codemirror_mode": {
    "name": "ipython",
    "version": 3
   },
   "file_extension": ".py",
   "mimetype": "text/x-python",
   "name": "python",
   "nbconvert_exporter": "python",
   "pygments_lexer": "ipython3",
   "version": "3.9.5 (tags/v3.9.5:0a7dcbd, May  3 2021, 17:27:52) [MSC v.1928 64 bit (AMD64)]"
  },
  "orig_nbformat": 4,
  "vscode": {
   "interpreter": {
    "hash": "a887bcff3c529d3c5f7024a1d41aa3b4bbce1316ddeaa17630e21743a1f8ea92"
   }
  }
 },
 "nbformat": 4,
 "nbformat_minor": 2
}
