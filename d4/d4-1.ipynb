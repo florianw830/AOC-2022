{
 "cells": [
  {
   "cell_type": "code",
   "execution_count": 87,
   "metadata": {},
   "outputs": [],
   "source": [
    "f = open(\"input.txt\", \"r\")\n",
    "l = f.read().split(\"\\n\")[:-1]\n",
    "\n",
    "\n"
   ]
  },
  {
   "cell_type": "code",
   "execution_count": 88,
   "metadata": {},
   "outputs": [],
   "source": [
    "def fillList(x):\n",
    "    start = int(x.split(\"-\")[0])\n",
    "    end = int(x.split(\"-\")[1])\n",
    "    ret = []\n",
    "    for i in range(start,end+1):\n",
    "        ret.append(str(i))\n",
    "    return ''.join(ret)\n",
    "\n"
   ]
  },
  {
   "cell_type": "code",
   "execution_count": 89,
   "metadata": {},
   "outputs": [],
   "source": [
    "def check(x,y):\n",
    "    start = (int(x.split(\"-\")[0]),int(x.split(\"-\")[1]))\n",
    "    end = (int(y.split(\"-\")[0]),int(y.split(\"-\")[1]))\n",
    "\n",
    "    if int(start[0])>=int(end[0]) and int(start[1])<= int(end[1]):\n",
    "        return True\n",
    "    return False\n"
   ]
  },
  {
   "cell_type": "code",
   "execution_count": 90,
   "metadata": {},
   "outputs": [
    {
     "name": "stdout",
     "output_type": "stream",
     "text": [
      "False\n",
      "True\n"
     ]
    }
   ],
   "source": [
    "a = \"2-8\"\n",
    "b = \"3-7\"\n",
    "print(check(a,b))\n",
    "print(check(b,a))\n",
    "\n"
   ]
  },
  {
   "cell_type": "code",
   "execution_count": 91,
   "metadata": {},
   "outputs": [
    {
     "name": "stdout",
     "output_type": "stream",
     "text": [
      "424\n"
     ]
    }
   ],
   "source": [
    "ct =  0\n",
    "for k in l:\n",
    "    a = k.split(\",\")[0]\n",
    "    b = k.split(\",\")[1]\n",
    "    if check(a,b) or check(b,a):\n",
    "        ct+=1\n",
    "\n",
    "\n",
    "print(ct)"
   ]
  },
  {
   "cell_type": "code",
   "execution_count": null,
   "metadata": {},
   "outputs": [],
   "source": [
    "\n",
    "    "
   ]
  }
 ],
 "metadata": {
  "kernelspec": {
   "display_name": "Python 3.9.5 ('aoc-sb': venv)",
   "language": "python",
   "name": "python3"
  },
  "language_info": {
   "codemirror_mode": {
    "name": "ipython",
    "version": 3
   },
   "file_extension": ".py",
   "mimetype": "text/x-python",
   "name": "python",
   "nbconvert_exporter": "python",
   "pygments_lexer": "ipython3",
   "version": "3.9.5"
  },
  "orig_nbformat": 4,
  "vscode": {
   "interpreter": {
    "hash": "8af1fd8da169ef3f60600fc831ed1e5b60d5c19741708d676dc6f0f0399b7712"
   }
  }
 },
 "nbformat": 4,
 "nbformat_minor": 2
}
