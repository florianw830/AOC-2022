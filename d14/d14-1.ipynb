{
 "cells": [
  {
   "cell_type": "code",
   "execution_count": 66,
   "metadata": {},
   "outputs": [],
   "source": [
    "import ast\n",
    "f = open(\"input.txt\", \"r\")\n",
    "l = f.read().split(\"\\n\\n\")\n",
    "ll = [x.split(\"\\n\") for x in l]"
   ]
  },
  {
   "cell_type": "code",
   "execution_count": 67,
   "metadata": {},
   "outputs": [],
   "source": [
    "def packEqual(l,r):\n",
    "    #print(\"pe\",l,r)\n",
    "    if type(l) == type(r) and type(l) is list:\n",
    "        return l,r,True\n",
    "    if type(l) == type(r) and type(l) is not list:\n",
    "        return l,r,True\n",
    "\n",
    "        \n",
    "    \n",
    "    if type(r) is list and type(l)is not list:\n",
    "        #print(f\"mixed type convert {l} to [{l}]\" )\n",
    "        return [l],r,False\n",
    "    if type(l) is list and type(r)is not list:\n",
    "        #print(f\"mixed type convert {r} to [{r}]\" )\n",
    "        return l,[r],False\n",
    "    return l,r,False\n"
   ]
  },
  {
   "cell_type": "code",
   "execution_count": 68,
   "metadata": {},
   "outputs": [],
   "source": [
    "def myCompare(l,r):\n",
    "    ret = 0\n",
    "    if type(l) == type(r) and type(r) is list:\n",
    "        for i in range(0, min(len(l),len(r))):\n",
    "            #print(\"compare\", l[i], \"vs\",r[i])\n",
    "            ret =  myCompare(l[i],r[i])\n",
    "            if ret != 0 : return ret\n",
    "            #hier problem\n",
    "        if len(l)>len(r):\n",
    "            #print(\"right side ran out of Items\")\n",
    "            return -1\n",
    "        if len(l)<len(r):\n",
    "            #print(\"left side ran out of Items\")\n",
    "            return 1\n",
    "\n",
    "    if type(l) == type(r) and type(r) is int:\n",
    "        if l<r:\n",
    "            return 1\n",
    "        if l == r:\n",
    "            return 0\n",
    "        if l > r:\n",
    "            return -1\n",
    "\n",
    "    if type(l) is not type(r):\n",
    "        l,r,_ = packEqual(l,r)\n",
    "        return myCompare(l,r)\n",
    "\n",
    "    return ret"
   ]
  },
  {
   "cell_type": "code",
   "execution_count": 69,
   "metadata": {},
   "outputs": [
    {
     "name": "stdout",
     "output_type": "stream",
     "text": [
      "6420\n"
     ]
    }
   ],
   "source": [
    "#print(myCompare(left,right))\n",
    "#1061\n",
    "#6506\n",
    "#6466\n",
    "#6420\n",
    "ct = 0\n",
    "for i in range(0,len(ll)):\n",
    "\n",
    "    l = ast.literal_eval(ll[i][0])\n",
    "    r = ast.literal_eval(ll[i][1])\n",
    "    rslt = myCompare(l,r)\n",
    "    #print(i, rslt)\n",
    "    if rslt == 1:\n",
    "        ct+=i+1\n",
    "    #print(\"------\")\n",
    "print(ct)"
   ]
  }
 ],
 "metadata": {
  "kernelspec": {
   "display_name": "Python 3.9.5 64-bit",
   "language": "python",
   "name": "python3"
  },
  "language_info": {
   "codemirror_mode": {
    "name": "ipython",
    "version": 3
   },
   "file_extension": ".py",
   "mimetype": "text/x-python",
   "name": "python",
   "nbconvert_exporter": "python",
   "pygments_lexer": "ipython3",
   "version": "3.9.5"
  },
  "orig_nbformat": 4,
  "vscode": {
   "interpreter": {
    "hash": "a887bcff3c529d3c5f7024a1d41aa3b4bbce1316ddeaa17630e21743a1f8ea92"
   }
  }
 },
 "nbformat": 4,
 "nbformat_minor": 2
}
