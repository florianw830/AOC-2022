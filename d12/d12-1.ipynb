{
 "cells": [
  {
   "cell_type": "code",
   "execution_count": 24,
   "metadata": {},
   "outputs": [],
   "source": [
    "import math\n",
    "f = open(\"input.txt\", \"r\")\n",
    "l = f.read().split(\"\\n\")[:-1]\n",
    "\n",
    "ll = [[ord(y) for y in x] for x in l]\n",
    "\n",
    "\n",
    "start = ord(\"S\")\n",
    "end = ord(\"E\")\n",
    "dimX = len(ll[0])\n",
    "dimY = len(ll)\n",
    "target = (0,0)\n",
    "startPoint = (0,0)"
   ]
  },
  {
   "cell_type": "code",
   "execution_count": 25,
   "metadata": {},
   "outputs": [],
   "source": [
    "\n",
    "for y in range(0,len(ll)):\n",
    "    for x in range(0,len(ll[0])):\n",
    "        if ll[y][x] == end:\n",
    "            ll[y][x] = ord(\"z\")\n",
    "            target = (x,y)\n",
    "        if ll[y][x] == start:\n",
    "            startPoint = (x,y)\n",
    "            ll[y][x] = ord(\"a\")\n"
   ]
  },
  {
   "cell_type": "code",
   "execution_count": 26,
   "metadata": {},
   "outputs": [],
   "source": [
    "class MyNode():\n",
    "    def __init__(self,x,y,g,pred,tar):\n",
    "        self.pt =(x,y)\n",
    "        self.pred = pred\n",
    "        self.h = self.getDist(tar)\n",
    "        self.g = g\n",
    "    def getCost(self):\n",
    "        return self.h + self.g\n",
    "    def getDist(self,tar):\n",
    "        return math.sqrt(math.pow((tar[0] - self.pt[0]) + (tar[1] - self.pt[1]),2))\n",
    "    def compare(self,other):\n",
    "        if(other[0] == self.pt[0] and other[1] == self.pt[1]):\n",
    "            return True\n",
    "        return False\n",
    "def getMin(nodeLst):\n",
    "    idx = 0\n",
    "    for i in range(0,len(nodeLst)):\n",
    "        if nodeLst[i].getCost() < nodeLst[idx].getCost():\n",
    "            idx = i\n",
    "    return idx"
   ]
  },
  {
   "cell_type": "code",
   "execution_count": 27,
   "metadata": {},
   "outputs": [],
   "source": [
    "def getSuc(elem,tar,nodeList,dimX,dimY):\n",
    "    ret = []\n",
    "\n",
    "    for i in [-1,0,1]:\n",
    "        for n in [-1,0,1]:\n",
    "            x = elem.pt[0]\n",
    "            y = elem.pt[1]\n",
    "            \n",
    "            _x = x +n\n",
    "            _y = y +i\n",
    "            \n",
    "            if _x >= dimX or _y >= dimY: continue\n",
    "            if _x <0 or _y <0: continue\n",
    "            if abs(n+i) != 1: continue\n",
    "            if nodeList[y][x]+1 < nodeList[_y][_x]: continue\n",
    "            #print(\"CHECK\",_x,_y)\n",
    "            tt = MyNode(_x,_y,elem.g+nodeList[_y][_x],None,tar)\n",
    "            \n",
    "            ret.append(tt)\n",
    "            #print(ret)\n",
    "\n",
    "    return ret\n"
   ]
  },
  {
   "cell_type": "code",
   "execution_count": 28,
   "metadata": {},
   "outputs": [],
   "source": [
    "def elemInList(elem,nodeList):\n",
    "    for i in range(0,len(nodeList)):\n",
    "        if nodeList[i].compare(elem.pt):\n",
    "            #print(nodeList[i].pt, elem.pt)\n",
    "            return True\n",
    "    return False\n",
    "\n",
    "def checkBetter(elem,nodeList):\n",
    "    for e in nodeList:\n",
    "        if elem.compare(e.pt) and elem.getCost() > e.getCost():\n",
    "            return True\n",
    "    return False\n",
    "\n",
    "\n",
    "def insertOrUpdate(elem,nodeList):\n",
    "    for i in range(0,len(nodeList)):\n",
    "        if nodeList[i].compare(elem.pt):\n",
    "            if elem.g < nodeList[i].g:\n",
    "                nodeList[i] = elem\n",
    "            return\n",
    "\n",
    "    nodeList.append(elem)"
   ]
  },
  {
   "cell_type": "code",
   "execution_count": 29,
   "metadata": {},
   "outputs": [],
   "source": [
    "def expand(curr,openList,closedList,tar,arr,dimX,dimY):\n",
    " \n",
    "    suc = getSuc(curr,tar,arr,dimX,dimY)\n",
    "    for e in suc:\n",
    "        \n",
    "        if(elemInList(e,closedList)): continue\n",
    "        if(checkBetter(e,openList)): continue\n",
    "        \n",
    "        e.pred = curr\n",
    "\n",
    "        insertOrUpdate(e,openList)\n"
   ]
  },
  {
   "cell_type": "code",
   "execution_count": 30,
   "metadata": {},
   "outputs": [],
   "source": [
    "def astar(nodeList, strt,tar,dimX,dimY):\n",
    "    openList=[]\n",
    "    closedList = []\n",
    "                         \n",
    "    start = MyNode(strt[0],strt[1],0,None,tar)\n",
    "    openList.append(start)\n",
    "    while(len(openList)>0):\n",
    "        \n",
    "        min = getMin(openList)\n",
    "        elem = openList[min]\n",
    "        #print(elem.pt)\n",
    "        del openList[min]\n",
    "        if elem.compare(tar):\n",
    "            return elem\n",
    "        closedList.append(elem)\n",
    "        expand(elem,openList,closedList,tar,nodeList,dimX,dimY)"
   ]
  },
  {
   "cell_type": "code",
   "execution_count": 31,
   "metadata": {},
   "outputs": [
    {
     "name": "stdout",
     "output_type": "stream",
     "text": [
      "tar (140, 21)\n",
      "534\n"
     ]
    }
   ],
   "source": [
    "path = astar(ll,startPoint,target,dimX,dimY)\n",
    "print(\"tar\",path.pred.pred.pred.pt)\n",
    "cur = path\n",
    "ct = 0\n",
    "while cur.pred != None:\n",
    "    ct+=1\n",
    "    cur = cur.pred\n",
    "print(ct)\n"
   ]
  }
 ],
 "metadata": {
  "kernelspec": {
   "display_name": "Python 3.9.5 64-bit",
   "language": "python",
   "name": "python3"
  },
  "language_info": {
   "codemirror_mode": {
    "name": "ipython",
    "version": 3
   },
   "file_extension": ".py",
   "mimetype": "text/x-python",
   "name": "python",
   "nbconvert_exporter": "python",
   "pygments_lexer": "ipython3",
   "version": "3.9.5"
  },
  "orig_nbformat": 4,
  "vscode": {
   "interpreter": {
    "hash": "a887bcff3c529d3c5f7024a1d41aa3b4bbce1316ddeaa17630e21743a1f8ea92"
   }
  }
 },
 "nbformat": 4,
 "nbformat_minor": 2
}
