{
 "cells": [
  {
   "cell_type": "code",
   "execution_count": 2,
   "metadata": {},
   "outputs": [
    {
     "name": "stdout",
     "output_type": "stream",
     "text": [
      "72240\n"
     ]
    }
   ],
   "source": [
    "f = open(\"input.txt\", \"r\")\n",
    "l = f.read().split(\"\\n\")\n",
    "\n",
    "ll = [x for x in l]\n",
    "tt=[]\n",
    "tmp =[]\n",
    "for x in ll:\n",
    "    if x ==\"\":\n",
    "        tt.append(sum(tmp))\n",
    "        tmp=[]\n",
    "    else:\n",
    "\n",
    "        tmp.append(int(x))\n",
    "print(max(tt))\n"
   ]
  },
  {
   "cell_type": "code",
   "execution_count": null,
   "metadata": {},
   "outputs": [],
   "source": []
  }
 ],
 "metadata": {
  "kernelspec": {
   "display_name": "Python 3.9.0 ('AOCDesktop': venv)",
   "language": "python",
   "name": "python3"
  },
  "language_info": {
   "codemirror_mode": {
    "name": "ipython",
    "version": 3
   },
   "file_extension": ".py",
   "mimetype": "text/x-python",
   "name": "python",
   "nbconvert_exporter": "python",
   "pygments_lexer": "ipython3",
   "version": "3.9.0"
  },
  "orig_nbformat": 4,
  "vscode": {
   "interpreter": {
    "hash": "0bdd095bb24223e87ba4a78feb90bab41833db0ebedfb8caa923a2283b138722"
   }
  }
 },
 "nbformat": 4,
 "nbformat_minor": 2
}
